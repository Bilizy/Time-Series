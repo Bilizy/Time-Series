{
 "cells": [
  {
   "cell_type": "code",
   "execution_count": 1,
   "metadata": {},
   "outputs": [
    {
     "name": "stderr",
     "output_type": "stream",
     "text": [
      "Using TensorFlow backend.\n"
     ]
    }
   ],
   "source": [
    "import pandas as pd\n",
    "import numpy as np\n",
    "import matplotlib.pyplot as plt\n",
    "\n",
    "from keras.models import Sequential\n",
    "from keras.layers import LSTM, Dense"
   ]
  },
  {
   "cell_type": "code",
   "execution_count": 2,
   "metadata": {},
   "outputs": [],
   "source": [
    "# split a univariate sequence into samples\n",
    "def split_sequence(sequence, n_steps):\n",
    "    X, y = list(), list()\n",
    "    for i in range(len(sequence)):\n",
    "        # find the end of this pattern\n",
    "        end_ix = i + n_steps\n",
    "        # check if we are beyond the sequence\n",
    "        if end_ix > len(sequence)-1:\n",
    "            break\n",
    "        # gather input and output parts of the pattern\n",
    "        seq_x, seq_y = sequence[i:end_ix], sequence[end_ix]\n",
    "        X.append(seq_x)\n",
    "        y.append(seq_y)\n",
    "    return np.array(X), np.array(y)"
   ]
  },
  {
   "cell_type": "code",
   "execution_count": 3,
   "metadata": {},
   "outputs": [
    {
     "name": "stdout",
     "output_type": "stream",
     "text": [
      "[[10 20 30]\n",
      " [20 30 40]\n",
      " [30 40 50]\n",
      " [40 50 60]\n",
      " [50 60 70]\n",
      " [60 70 80]]\n",
      "--------------------\n",
      "[40 50 60 70 80 90]\n"
     ]
    }
   ],
   "source": [
    "# define input sequence\n",
    "raw_seq = [10, 20, 30, 40, 50, 60, 70, 80, 90]\n",
    "# choose a number of time steps\n",
    "n_steps = 3\n",
    "# split into samples\n",
    "X, y = split_sequence(raw_seq, n_steps)\n",
    "\n",
    "print(X)\n",
    "print('-'*20)\n",
    "print(y)"
   ]
  },
  {
   "cell_type": "code",
   "execution_count": 4,
   "metadata": {},
   "outputs": [
    {
     "data": {
      "text/plain": [
       "(6, 3, 1)"
      ]
     },
     "execution_count": 4,
     "metadata": {},
     "output_type": "execute_result"
    }
   ],
   "source": [
    "# reshape from [samples, timesteps] into [samples, timesteps, features]\n",
    "n_features = 1\n",
    "X = X.reshape((X.shape[0], X.shape[1], n_features))\n",
    "X.shape"
   ]
  },
  {
   "cell_type": "code",
   "execution_count": 5,
   "metadata": {},
   "outputs": [
    {
     "name": "stdout",
     "output_type": "stream",
     "text": [
      "Model: \"sequential\"\n",
      "_________________________________________________________________\n",
      "Layer (type)                 Output Shape              Param #   \n",
      "=================================================================\n",
      "lstm (LSTM)                  (None, 50)                10400     \n",
      "_________________________________________________________________\n",
      "dense (Dense)                (None, 1)                 51        \n",
      "=================================================================\n",
      "Total params: 10,451\n",
      "Trainable params: 10,451\n",
      "Non-trainable params: 0\n",
      "_________________________________________________________________\n"
     ]
    }
   ],
   "source": [
    "# define model\n",
    "model = Sequential()\n",
    "model.add(LSTM(50, activation='relu', input_shape=(n_steps, n_features)))\n",
    "model.add(Dense(1))\n",
    "model.summary()"
   ]
  },
  {
   "cell_type": "code",
   "execution_count": 6,
   "metadata": {},
   "outputs": [],
   "source": [
    "model.compile(optimizer='adam', loss='mse')\n",
    "# fit model\n",
    "history = model.fit(X, y, epochs=200, verbose=0)"
   ]
  },
  {
   "cell_type": "code",
   "execution_count": 7,
   "metadata": {},
   "outputs": [
    {
     "data": {
      "image/png": "[encoded data removed]",
      "text/plain": [
       "<Figure size 432x288 with 1 Axes>"
      ]
     },
     "metadata": {
      "needs_background": "light"
     },
     "output_type": "display_data"
    }
   ],
   "source": [
    "plt.plot(history.history['loss'], label='train')\n",
    "plt.legend()\n",
    "plt.show()"
   ]
  },
  {
   "cell_type": "code",
   "execution_count": 8,
   "metadata": {
    "scrolled": true
   },
   "outputs": [
    {
     "name": "stdout",
     "output_type": "stream",
     "text": [
      "[[102.07034]]\n"
     ]
    }
   ],
   "source": [
    "# demonstrate prediction\n",
    "x_input = np.array([70, 80, 90])\n",
    "x_input = x_input.reshape((1, n_steps, n_features))\n",
    "yhat = model.predict(x_input, verbose=0)\n",
    "print(yhat)"
   ]
  },
  {
   "cell_type": "code",
   "execution_count": 9,
   "metadata": {},
   "outputs": [
    {
     "name": "stderr",
     "output_type": "stream",
     "text": [
      "/usr/local/anaconda3/lib/python3.7/site-packages/statsmodels/tsa/ar_model.py:691: FutureWarning: \n",
      "statsmodels.tsa.AR has been deprecated in favor of statsmodels.tsa.AutoReg and\n",
      "statsmodels.tsa.SARIMAX.\n",
      "\n",
      "AutoReg adds the ability to specify exogenous variables, include time trends,\n",
      "and add seasonal dummies. The AutoReg API differs from AR since the model is\n",
      "treated as immutable, and so the entire specification including the lag\n",
      "length must be specified when creating the model. This change is too\n",
      "substantial to incorporate into the existing AR api. The function\n",
      "ar_select_order performs lag length selection for AutoReg models.\n",
      "\n",
      "AutoReg only estimates parameters using conditional MLE (OLS). Use SARIMAX to\n",
      "estimate ARX and related models using full MLE via the Kalman Filter.\n",
      "\n",
      "To silence this warning and continue using AR until it is removed, use:\n",
      "\n",
      "import warnings\n",
      "warnings.filterwarnings('ignore', 'statsmodels.tsa.ar_model.AR', FutureWarning)\n",
      "\n",
      "  warnings.warn(AR_DEPRECATION_WARN, FutureWarning)\n"
     ]
    },
    {
     "data": {
      "text/plain": [
       "array([100., 110.])"
      ]
     },
     "execution_count": 9,
     "metadata": {},
     "output_type": "execute_result"
    }
   ],
   "source": [
    "from statsmodels.tsa.ar_model import AR\n",
    "ar_model = AR(raw_seq).fit(maxlag=2)\n",
    "yhat_ar = ar_model.predict(start=len(raw_seq), end=len(raw_seq)+1)\n",
    "yhat_ar"
   ]
  },
  {
   "cell_type": "code",
   "execution_count": 10,
   "metadata": {},
   "outputs": [
    {
     "data": {
      "image/png": "[encoded data removed]",
      "text/plain": [
       "<Figure size 432x288 with 1 Axes>"
      ]
     },
     "metadata": {
      "needs_background": "light"
     },
     "output_type": "display_data"
    }
   ],
   "source": [
    "plt.plot(ar_model.resid)\n",
    "plt.show()"
   ]
  },
  {
   "cell_type": "markdown",
   "metadata": {},
   "source": [
    "# 单维多步"
   ]
  },
  {
   "cell_type": "code",
   "execution_count": 11,
   "metadata": {},
   "outputs": [
    {
     "data": {
      "text/plain": [
       "[10, 20, 30, 40, 50, 60, 70, 80, 90]"
      ]
     },
     "execution_count": 11,
     "metadata": {},
     "output_type": "execute_result"
    }
   ],
   "source": [
    "raw_seq"
   ]
  },
  {
   "cell_type": "code",
   "execution_count": 12,
   "metadata": {},
   "outputs": [],
   "source": [
    "# split a univariate sequence into samples\n",
    "def split_sequence(sequence, n_steps, n_feature=1):\n",
    "    X, y = list(), list()\n",
    "    for i in range(len(sequence)):\n",
    "        # find the end of this pattern\n",
    "        end_ix = i + n_steps\n",
    "        # check if we are beyond the sequence\n",
    "        if end_ix > len(sequence)-n_feature:\n",
    "            break\n",
    "        # gather input and output parts of the pattern\n",
    "        seq_x = sequence[i:end_ix]\n",
    "        seq_y = sequence[end_ix:end_ix+n_feature]\n",
    "        X.append(seq_x)\n",
    "        y.append(seq_y)\n",
    "    return np.array(X), np.array(y)"
   ]
  },
  {
   "cell_type": "code",
   "execution_count": 13,
   "metadata": {},
   "outputs": [],
   "source": [
    "n_steps = 3\n",
    "n_features = 2\n",
    "\n",
    "# split into samples\n",
    "X, y = split_sequence(raw_seq, n_steps, n_features)"
   ]
  },
  {
   "cell_type": "code",
   "execution_count": 14,
   "metadata": {},
   "outputs": [
    {
     "data": {
      "text/plain": [
       "array([[10, 20, 30],\n",
       "       [20, 30, 40],\n",
       "       [30, 40, 50],\n",
       "       [40, 50, 60],\n",
       "       [50, 60, 70]])"
      ]
     },
     "execution_count": 14,
     "metadata": {},
     "output_type": "execute_result"
    }
   ],
   "source": [
    "X"
   ]
  },
  {
   "cell_type": "code",
   "execution_count": 15,
   "metadata": {},
   "outputs": [
    {
     "data": {
      "text/plain": [
       "array([[40, 50],\n",
       "       [50, 60],\n",
       "       [60, 70],\n",
       "       [70, 80],\n",
       "       [80, 90]])"
      ]
     },
     "execution_count": 15,
     "metadata": {},
     "output_type": "execute_result"
    }
   ],
   "source": [
    "y"
   ]
  },
  {
   "cell_type": "code",
   "execution_count": 16,
   "metadata": {},
   "outputs": [
    {
     "data": {
      "text/plain": [
       "(5, 3, 1)"
      ]
     },
     "execution_count": 16,
     "metadata": {},
     "output_type": "execute_result"
    }
   ],
   "source": [
    "X = X.reshape((X.shape[0], X.shape[1], 1))\n",
    "X.shape"
   ]
  },
  {
   "cell_type": "code",
   "execution_count": 17,
   "metadata": {},
   "outputs": [
    {
     "name": "stdout",
     "output_type": "stream",
     "text": [
      "Model: \"sequential_1\"\n",
      "_________________________________________________________________\n",
      "Layer (type)                 Output Shape              Param #   \n",
      "=================================================================\n",
      "lstm_1 (LSTM)                (None, 50)                10400     \n",
      "_________________________________________________________________\n",
      "dense_1 (Dense)              (None, 2)                 102       \n",
      "=================================================================\n",
      "Total params: 10,502\n",
      "Trainable params: 10,502\n",
      "Non-trainable params: 0\n",
      "_________________________________________________________________\n"
     ]
    }
   ],
   "source": [
    "# define model\n",
    "model = Sequential()\n",
    "model.add(LSTM(50, activation='relu', input_shape=(n_steps, 1)))\n",
    "model.add(Dense(2))\n",
    "model.summary()"
   ]
  },
  {
   "cell_type": "code",
   "execution_count": 18,
   "metadata": {},
   "outputs": [],
   "source": [
    "model.compile(optimizer='adam', loss='mse')\n",
    "# fit model\n",
    "history = model.fit(X, y, epochs=200, verbose=0)"
   ]
  },
  {
   "cell_type": "code",
   "execution_count": 19,
   "metadata": {},
   "outputs": [
    {
     "data": {
      "image/png": "[encoded data removed]",
      "text/plain": [
       "<Figure size 432x288 with 1 Axes>"
      ]
     },
     "metadata": {
      "needs_background": "light"
     },
     "output_type": "display_data"
    }
   ],
   "source": [
    "plt.plot(history.history['loss'], label='train')\n",
    "plt.legend()\n",
    "plt.show()"
   ]
  },
  {
   "cell_type": "code",
   "execution_count": 20,
   "metadata": {},
   "outputs": [
    {
     "name": "stdout",
     "output_type": "stream",
     "text": [
      "[[102.9935   111.98527 ]\n",
      " [114.90875  123.518555]]\n"
     ]
    }
   ],
   "source": [
    "# demonstrate prediction\n",
    "x_input = np.array([[70, 80, 90], [80, 90, 100]])\n",
    "x_input = x_input.reshape((2, n_steps, 1))\n",
    "yhat = model.predict(x_input, verbose=0)\n",
    "print(yhat)"
   ]
  },
  {
   "cell_type": "markdown",
   "metadata": {},
   "source": [
    "# 多维多步"
   ]
  },
  {
   "cell_type": "code",
   "execution_count": 46,
   "metadata": {},
   "outputs": [],
   "source": [
    "multi_seq = np.array([[10, 20, 30, 40, 50, 60, 70, 80, 90],\n",
    "                      [160, 150, 150, 120, 100, 90, 70, 50, 50]])"
   ]
  },
  {
   "cell_type": "code",
   "execution_count": 28,
   "metadata": {},
   "outputs": [],
   "source": [
    "# [samples, timesteps, features]"
   ]
  },
  {
   "cell_type": "code",
   "execution_count": 22,
   "metadata": {},
   "outputs": [
    {
     "data": {
      "image/png": "[encoded data removed]",
      "text/plain": [
       "<Figure size 432x288 with 1 Axes>"
      ]
     },
     "metadata": {
      "needs_background": "light"
     },
     "output_type": "display_data"
    }
   ],
   "source": [
    "plt.plot(multi_seq[0], label='1.nd')\n",
    "plt.plot(multi_seq[1], label='2.nd')\n",
    "plt.legend()\n",
    "plt.show()"
   ]
  },
  {
   "cell_type": "code",
   "execution_count": 52,
   "metadata": {},
   "outputs": [],
   "source": [
    "in_seq1 = multi_seq[0].reshape((len(multi_seq[0]), 1))\n",
    "in_seq2 = multi_seq[1].reshape((len(multi_seq[1]), 1))"
   ]
  },
  {
   "cell_type": "code",
   "execution_count": 53,
   "metadata": {},
   "outputs": [
    {
     "data": {
      "text/plain": [
       "array([[ 10, 160],\n",
       "       [ 20, 150],\n",
       "       [ 30, 150],\n",
       "       [ 40, 120],\n",
       "       [ 50, 100],\n",
       "       [ 60,  90],\n",
       "       [ 70,  70],\n",
       "       [ 80,  50],\n",
       "       [ 90,  50]])"
      ]
     },
     "execution_count": 53,
     "metadata": {},
     "output_type": "execute_result"
    }
   ],
   "source": [
    "data = np.hstack((in_seq1, in_seq2))\n",
    "data"
   ]
  },
  {
   "cell_type": "code",
   "execution_count": 81,
   "metadata": {},
   "outputs": [],
   "source": [
    "# split a univariate sequence into samples\n",
    "def split_sequence(sequence, n_steps_in, n_steps_out=1, n_feature=1):\n",
    "    X, y = list(), list()\n",
    "    for i in range(len(sequence)):\n",
    "        # find the end of this pattern\n",
    "        end_ix = i + n_steps_in\n",
    "        # check if we are beyond the sequence\n",
    "        if end_ix > len(sequence)-n_steps_out:\n",
    "            break\n",
    "        # gather input and output parts of the pattern\n",
    "        seq_x = sequence[i:end_ix]\n",
    "        seq_y = sequence[end_ix:end_ix+n_steps_out]\n",
    "        X.append(seq_x)\n",
    "        y.append(seq_y)\n",
    "    return np.array(X), np.array(y)"
   ]
  },
  {
   "cell_type": "code",
   "execution_count": 82,
   "metadata": {},
   "outputs": [],
   "source": [
    "n_steps_in = 3\n",
    "n_step_out = 2"
   ]
  },
  {
   "cell_type": "code",
   "execution_count": 83,
   "metadata": {},
   "outputs": [
    {
     "data": {
      "text/plain": [
       "array([[[ 10, 160],\n",
       "        [ 20, 150],\n",
       "        [ 30, 150]],\n",
       "\n",
       "       [[ 20, 150],\n",
       "        [ 30, 150],\n",
       "        [ 40, 120]],\n",
       "\n",
       "       [[ 30, 150],\n",
       "        [ 40, 120],\n",
       "        [ 50, 100]],\n",
       "\n",
       "       [[ 40, 120],\n",
       "        [ 50, 100],\n",
       "        [ 60,  90]],\n",
       "\n",
       "       [[ 50, 100],\n",
       "        [ 60,  90],\n",
       "        [ 70,  70]]])"
      ]
     },
     "execution_count": 83,
     "metadata": {},
     "output_type": "execute_result"
    }
   ],
   "source": [
    "X, y = split_sequence(data, n_steps_in, n_step_out)\n",
    "X"
   ]
  },
  {
   "cell_type": "code",
   "execution_count": 84,
   "metadata": {},
   "outputs": [
    {
     "data": {
      "text/plain": [
       "array([[[ 40, 120],\n",
       "        [ 50, 100]],\n",
       "\n",
       "       [[ 50, 100],\n",
       "        [ 60,  90]],\n",
       "\n",
       "       [[ 60,  90],\n",
       "        [ 70,  70]],\n",
       "\n",
       "       [[ 70,  70],\n",
       "        [ 80,  50]],\n",
       "\n",
       "       [[ 80,  50],\n",
       "        [ 90,  50]]])"
      ]
     },
     "execution_count": 84,
     "metadata": {},
     "output_type": "execute_result"
    }
   ],
   "source": [
    "y"
   ]
  },
  {
   "cell_type": "code",
   "execution_count": 85,
   "metadata": {},
   "outputs": [
    {
     "data": {
      "text/plain": [
       "(5, 3, 2)"
      ]
     },
     "execution_count": 85,
     "metadata": {},
     "output_type": "execute_result"
    }
   ],
   "source": [
    "X.shape"
   ]
  },
  {
   "cell_type": "code",
   "execution_count": 86,
   "metadata": {},
   "outputs": [
    {
     "data": {
      "text/plain": [
       "(5, 2, 2)"
      ]
     },
     "execution_count": 86,
     "metadata": {},
     "output_type": "execute_result"
    }
   ],
   "source": [
    "y.shape"
   ]
  },
  {
   "cell_type": "code",
   "execution_count": 87,
   "metadata": {},
   "outputs": [
    {
     "name": "stdout",
     "output_type": "stream",
     "text": [
      "Model: \"sequential_11\"\n",
      "_________________________________________________________________\n",
      "Layer (type)                 Output Shape              Param #   \n",
      "=================================================================\n",
      "lstm_16 (LSTM)               (None, 50)                10600     \n",
      "_________________________________________________________________\n",
      "repeat_vector_5 (RepeatVecto (None, 2, 50)             0         \n",
      "_________________________________________________________________\n",
      "lstm_17 (LSTM)               (None, 2, 200)            200800    \n",
      "_________________________________________________________________\n",
      "time_distributed_5 (TimeDist (None, 2, 2)              402       \n",
      "=================================================================\n",
      "Total params: 211,802\n",
      "Trainable params: 211,802\n",
      "Non-trainable params: 0\n",
      "_________________________________________________________________\n"
     ]
    }
   ],
   "source": [
    "from keras.layers import RepeatVector\n",
    "from keras.layers import TimeDistributed\n",
    "\n",
    "# define model\n",
    "model = Sequential()\n",
    "model.add(LSTM(50, activation='relu', input_shape=(n_steps_in, 2)))\n",
    "model.add(RepeatVector(n_steps_out))\n",
    "model.add(LSTM(200, activation='relu', return_sequences=True))\n",
    "model.add(TimeDistributed(Dense(2)))\n",
    "model.summary()"
   ]
  },
  {
   "cell_type": "code",
   "execution_count": 98,
   "metadata": {},
   "outputs": [
    {
     "name": "stdout",
     "output_type": "stream",
     "text": [
      "Epoch 1/200\n",
      "1/1 [==============================] - 0s 1ms/step - loss: 1.7334e-08\n",
      "Epoch 2/200\n",
      "1/1 [==============================] - 0s 979us/step - loss: 33.8533\n",
      "Epoch 3/200\n",
      "1/1 [==============================] - 0s 1ms/step - loss: 3.0422\n",
      "Epoch 4/200\n",
      "1/1 [==============================] - 0s 1ms/step - loss: 12.7733\n",
      "Epoch 5/200\n",
      "1/1 [==============================] - 0s 1ms/step - loss: 16.8674\n",
      "Epoch 6/200\n",
      "1/1 [==============================] - 0s 2ms/step - loss: 8.9697\n",
      "Epoch 7/200\n",
      "1/1 [==============================] - 0s 992us/step - loss: 3.5917\n",
      "Epoch 8/200\n",
      "1/1 [==============================] - 0s 1ms/step - loss: 5.6924\n",
      "Epoch 9/200\n",
      "1/1 [==============================] - 0s 778us/step - loss: 8.6784\n",
      "Epoch 10/200\n",
      "1/1 [==============================] - 0s 1ms/step - loss: 7.4569\n",
      "Epoch 11/200\n",
      "1/1 [==============================] - 0s 2ms/step - loss: 3.7094\n",
      "Epoch 12/200\n",
      "1/1 [==============================] - 0s 1ms/step - loss: 1.4102\n",
      "Epoch 13/200\n",
      "1/1 [==============================] - 0s 917us/step - loss: 2.3769\n",
      "Epoch 14/200\n",
      "1/1 [==============================] - 0s 2ms/step - loss: 4.8137\n",
      "Epoch 15/200\n",
      "1/1 [==============================] - 0s 1ms/step - loss: 5.5982\n",
      "Epoch 16/200\n",
      "1/1 [==============================] - 0s 3ms/step - loss: 3.9078\n",
      "Epoch 17/200\n",
      "1/1 [==============================] - 0s 2ms/step - loss: 1.4076\n",
      "Epoch 18/200\n",
      "1/1 [==============================] - 0s 4ms/step - loss: 0.1223\n",
      "Epoch 19/200\n",
      "1/1 [==============================] - 0s 955us/step - loss: 0.7733\n",
      "Epoch 20/200\n",
      "1/1 [==============================] - 0s 1ms/step - loss: 2.2691\n",
      "Epoch 21/200\n",
      "1/1 [==============================] - 0s 2ms/step - loss: 2.8503\n",
      "Epoch 22/200\n",
      "1/1 [==============================] - 0s 5ms/step - loss: 2.0727\n",
      "Epoch 23/200\n",
      "1/1 [==============================] - 0s 13ms/step - loss: 0.9201\n",
      "Epoch 24/200\n",
      "1/1 [==============================] - 0s 2ms/step - loss: 0.4209\n",
      "Epoch 25/200\n",
      "1/1 [==============================] - 0s 1ms/step - loss: 0.7314\n",
      "Epoch 26/200\n",
      "1/1 [==============================] - 0s 2ms/step - loss: 1.1965\n",
      "Epoch 27/200\n",
      "1/1 [==============================] - 0s 3ms/step - loss: 1.1597\n",
      "Epoch 28/200\n",
      "1/1 [==============================] - 0s 5ms/step - loss: 0.7152\n",
      "Epoch 29/200\n",
      "1/1 [==============================] - 0s 2ms/step - loss: 0.4250\n",
      "Epoch 30/200\n",
      "1/1 [==============================] - 0s 2ms/step - loss: 0.5457\n",
      "Epoch 31/200\n",
      "1/1 [==============================] - 0s 2ms/step - loss: 0.8074\n",
      "Epoch 32/200\n",
      "1/1 [==============================] - 0s 3ms/step - loss: 0.7843\n",
      "Epoch 33/200\n",
      "1/1 [==============================] - 0s 3ms/step - loss: 0.4173\n",
      "Epoch 34/200\n",
      "1/1 [==============================] - 0s 4ms/step - loss: 0.1048\n",
      "Epoch 35/200\n",
      "1/1 [==============================] - 0s 3ms/step - loss: 0.1699\n",
      "Epoch 36/200\n",
      "1/1 [==============================] - 0s 3ms/step - loss: 0.4589\n",
      "Epoch 37/200\n",
      "1/1 [==============================] - 0s 2ms/step - loss: 0.5990\n",
      "Epoch 38/200\n",
      "1/1 [==============================] - 0s 2ms/step - loss: 0.4332\n",
      "Epoch 39/200\n",
      "1/1 [==============================] - 0s 3ms/step - loss: 0.1435\n",
      "Epoch 40/200\n",
      "1/1 [==============================] - 0s 2ms/step - loss: 0.0250\n",
      "Epoch 41/200\n",
      "1/1 [==============================] - 0s 3ms/step - loss: 0.1379\n",
      "Epoch 42/200\n",
      "1/1 [==============================] - 0s 4ms/step - loss: 0.2750\n",
      "Epoch 43/200\n",
      "1/1 [==============================] - 0s 2ms/step - loss: 0.2660\n",
      "Epoch 44/200\n",
      "1/1 [==============================] - 0s 2ms/step - loss: 0.1515\n",
      "Epoch 45/200\n",
      "1/1 [==============================] - 0s 4ms/step - loss: 0.0770\n",
      "Epoch 46/200\n",
      "1/1 [==============================] - 0s 5ms/step - loss: 0.1053\n",
      "Epoch 47/200\n",
      "1/1 [==============================] - 0s 2ms/step - loss: 0.1525\n",
      "Epoch 48/200\n",
      "1/1 [==============================] - 0s 2ms/step - loss: 0.1278\n",
      "Epoch 49/200\n",
      "1/1 [==============================] - 0s 1ms/step - loss: 0.0649\n",
      "Epoch 50/200\n",
      "1/1 [==============================] - 0s 2ms/step - loss: 0.0482\n",
      "Epoch 51/200\n",
      "1/1 [==============================] - 0s 2ms/step - loss: 0.0900\n",
      "Epoch 52/200\n",
      "1/1 [==============================] - 0s 2ms/step - loss: 0.1209\n",
      "Epoch 53/200\n",
      "1/1 [==============================] - 0s 2ms/step - loss: 0.0848\n",
      "Epoch 54/200\n",
      "1/1 [==============================] - 0s 2ms/step - loss: 0.0220\n",
      "Epoch 55/200\n",
      "1/1 [==============================] - 0s 2ms/step - loss: 0.0077\n",
      "Epoch 56/200\n",
      "1/1 [==============================] - 0s 3ms/step - loss: 0.0451\n",
      "Epoch 57/200\n",
      "1/1 [==============================] - 0s 4ms/step - loss: 0.0762\n",
      "Epoch 58/200\n",
      "1/1 [==============================] - 0s 3ms/step - loss: 0.0603\n",
      "Epoch 59/200\n",
      "1/1 [==============================] - 0s 1ms/step - loss: 0.0217\n",
      "Epoch 60/200\n",
      "1/1 [==============================] - 0s 908us/step - loss: 0.0095\n",
      "Epoch 61/200\n",
      "1/1 [==============================] - 0s 2ms/step - loss: 0.0261\n",
      "Epoch 62/200\n",
      "1/1 [==============================] - 0s 2ms/step - loss: 0.0374\n",
      "Epoch 63/200\n",
      "1/1 [==============================] - 0s 2ms/step - loss: 0.0274\n",
      "Epoch 64/200\n",
      "1/1 [==============================] - 0s 4ms/step - loss: 0.0134\n",
      "Epoch 65/200\n",
      "1/1 [==============================] - 0s 2ms/step - loss: 0.0152\n",
      "Epoch 66/200\n",
      "1/1 [==============================] - 0s 2ms/step - loss: 0.0232\n",
      "Epoch 67/200\n",
      "1/1 [==============================] - 0s 4ms/step - loss: 0.0192\n",
      "Epoch 68/200\n",
      "1/1 [==============================] - 0s 922us/step - loss: 0.0077\n",
      "Epoch 69/200\n",
      "1/1 [==============================] - 0s 2ms/step - loss: 0.0051\n",
      "Epoch 70/200\n",
      "1/1 [==============================] - 0s 1ms/step - loss: 0.0143\n",
      "Epoch 71/200\n",
      "1/1 [==============================] - 0s 5ms/step - loss: 0.0195\n",
      "Epoch 72/200\n",
      "1/1 [==============================] - 0s 3ms/step - loss: 0.0116\n",
      "Epoch 73/200\n",
      "1/1 [==============================] - 0s 2ms/step - loss: 0.0021\n",
      "Epoch 74/200\n",
      "1/1 [==============================] - 0s 1ms/step - loss: 0.0025\n",
      "Epoch 75/200\n",
      "1/1 [==============================] - 0s 2ms/step - loss: 0.0092\n",
      "Epoch 76/200\n",
      "1/1 [==============================] - 0s 3ms/step - loss: 0.0106\n",
      "Epoch 77/200\n",
      "1/1 [==============================] - 0s 2ms/step - loss: 0.0054\n",
      "Epoch 78/200\n",
      "1/1 [==============================] - 0s 1ms/step - loss: 0.0023\n",
      "Epoch 79/200\n",
      "1/1 [==============================] - 0s 2ms/step - loss: 0.0040\n",
      "Epoch 80/200\n",
      "1/1 [==============================] - 0s 2ms/step - loss: 0.0057\n",
      "Epoch 81/200\n",
      "1/1 [==============================] - 0s 732us/step - loss: 0.0039\n",
      "Epoch 82/200\n",
      "1/1 [==============================] - 0s 2ms/step - loss: 0.0021\n",
      "Epoch 83/200\n",
      "1/1 [==============================] - 0s 817us/step - loss: 0.0032\n",
      "Epoch 84/200\n",
      "1/1 [==============================] - 0s 1ms/step - loss: 0.0044\n",
      "Epoch 85/200\n",
      "1/1 [==============================] - 0s 2ms/step - loss: 0.0029\n",
      "Epoch 86/200\n",
      "1/1 [==============================] - 0s 1ms/step - loss: 5.5458e-04\n",
      "Epoch 87/200\n",
      "1/1 [==============================] - 0s 1ms/step - loss: 9.3068e-04\n",
      "Epoch 88/200\n",
      "1/1 [==============================] - 0s 2ms/step - loss: 0.0029\n",
      "Epoch 89/200\n",
      "1/1 [==============================] - 0s 2ms/step - loss: 0.0030\n",
      "Epoch 90/200\n",
      "1/1 [==============================] - 0s 2ms/step - loss: 0.0012\n",
      "Epoch 91/200\n",
      "1/1 [==============================] - 0s 3ms/step - loss: 2.6816e-04\n",
      "Epoch 92/200\n",
      "1/1 [==============================] - 0s 938us/step - loss: 0.0012\n",
      "Epoch 93/200\n",
      "1/1 [==============================] - 0s 3ms/step - loss: 0.0018\n",
      "Epoch 94/200\n",
      "1/1 [==============================] - 0s 3ms/step - loss: 0.0012\n",
      "Epoch 95/200\n",
      "1/1 [==============================] - 0s 1ms/step - loss: 5.4232e-04\n",
      "Epoch 96/200\n",
      "1/1 [==============================] - 0s 1ms/step - loss: 7.7158e-04\n",
      "Epoch 97/200\n",
      "1/1 [==============================] - 0s 1ms/step - loss: 9.8953e-04\n",
      "Epoch 98/200\n",
      "1/1 [==============================] - 0s 998us/step - loss: 5.5607e-04\n",
      "Epoch 99/200\n",
      "1/1 [==============================] - 0s 1ms/step - loss: 2.8552e-04\n",
      "Epoch 100/200\n",
      "1/1 [==============================] - 0s 1ms/step - loss: 6.3387e-04\n",
      "Epoch 101/200\n",
      "1/1 [==============================] - 0s 2ms/step - loss: 8.9517e-04\n",
      "Epoch 102/200\n",
      "1/1 [==============================] - 0s 1ms/step - loss: 4.8426e-04\n",
      "Epoch 103/200\n"
     ]
    },
    {
     "name": "stdout",
     "output_type": "stream",
     "text": [
      "1/1 [==============================] - 0s 1ms/step - loss: 6.8522e-05\n",
      "Epoch 104/200\n",
      "1/1 [==============================] - 0s 2ms/step - loss: 2.4970e-04\n",
      "Epoch 105/200\n",
      "1/1 [==============================] - 0s 1ms/step - loss: 5.7439e-04\n",
      "Epoch 106/200\n",
      "1/1 [==============================] - 0s 2ms/step - loss: 4.4912e-04\n",
      "Epoch 107/200\n",
      "1/1 [==============================] - 0s 6ms/step - loss: 1.3185e-04\n",
      "Epoch 108/200\n",
      "1/1 [==============================] - 0s 5ms/step - loss: 1.3238e-04\n",
      "Epoch 109/200\n",
      "1/1 [==============================] - 0s 3ms/step - loss: 2.8797e-04\n",
      "Epoch 110/200\n",
      "1/1 [==============================] - 0s 3ms/step - loss: 2.5687e-04\n",
      "Epoch 111/200\n",
      "1/1 [==============================] - 0s 4ms/step - loss: 1.2793e-04\n",
      "Epoch 112/200\n",
      "1/1 [==============================] - 0s 2ms/step - loss: 1.5859e-04\n",
      "Epoch 113/200\n",
      "1/1 [==============================] - ETA: 0s - loss: 2.1728e-0 - 0s 3ms/step - loss: 2.1728e-04\n",
      "Epoch 114/200\n",
      "1/1 [==============================] - 0s 6ms/step - loss: 1.3127e-04\n",
      "Epoch 115/200\n",
      "1/1 [==============================] - 0s 4ms/step - loss: 3.6509e-05\n",
      "Epoch 116/200\n",
      "1/1 [==============================] - 0s 6ms/step - loss: 1.0147e-04\n",
      "Epoch 117/200\n",
      "1/1 [==============================] - 0s 4ms/step - loss: 1.8073e-04\n",
      "Epoch 118/200\n",
      "1/1 [==============================] - 0s 2ms/step - loss: 1.1414e-04\n",
      "Epoch 119/200\n",
      "1/1 [==============================] - 0s 3ms/step - loss: 2.1669e-05\n",
      "Epoch 120/200\n",
      "1/1 [==============================] - 0s 708us/step - loss: 4.8361e-05\n",
      "Epoch 121/200\n",
      "1/1 [==============================] - 0s 724us/step - loss: 1.0924e-04\n",
      "Epoch 122/200\n",
      "1/1 [==============================] - 0s 2ms/step - loss: 8.2278e-05\n",
      "Epoch 123/200\n",
      "1/1 [==============================] - 0s 1ms/step - loss: 3.2916e-05\n",
      "Epoch 124/200\n",
      "1/1 [==============================] - 0s 997us/step - loss: 4.0961e-05\n",
      "Epoch 125/200\n",
      "1/1 [==============================] - 0s 2ms/step - loss: 5.9718e-05\n",
      "Epoch 126/200\n",
      "1/1 [==============================] - 0s 1ms/step - loss: 3.6121e-05\n",
      "Epoch 127/200\n",
      "1/1 [==============================] - 0s 3ms/step - loss: 2.2731e-05\n",
      "Epoch 128/200\n",
      "1/1 [==============================] - 0s 1ms/step - loss: 4.3343e-05\n",
      "Epoch 129/200\n",
      "1/1 [==============================] - 0s 800us/step - loss: 4.7184e-05\n",
      "Epoch 130/200\n",
      "1/1 [==============================] - 0s 1ms/step - loss: 1.6789e-05\n",
      "Epoch 131/200\n",
      "1/1 [==============================] - 0s 719us/step - loss: 8.3124e-06\n",
      "Epoch 132/200\n",
      "1/1 [==============================] - 0s 1ms/step - loss: 3.0316e-05\n",
      "Epoch 133/200\n",
      "1/1 [==============================] - 0s 2ms/step - loss: 3.5403e-05\n",
      "Epoch 134/200\n",
      "1/1 [==============================] - 0s 1ms/step - loss: 1.3917e-05\n",
      "Epoch 135/200\n",
      "1/1 [==============================] - 0s 1ms/step - loss: 7.0530e-06\n",
      "Epoch 136/200\n",
      "1/1 [==============================] - 0s 2ms/step - loss: 1.8393e-05\n",
      "Epoch 137/200\n",
      "1/1 [==============================] - 0s 1ms/step - loss: 1.9567e-05\n",
      "Epoch 138/200\n",
      "1/1 [==============================] - 0s 8ms/step - loss: 9.8547e-06\n",
      "Epoch 139/200\n",
      "1/1 [==============================] - 0s 2ms/step - loss: 1.0160e-05\n",
      "Epoch 140/200\n",
      "1/1 [==============================] - 0s 2ms/step - loss: 1.3957e-05\n",
      "Epoch 141/200\n",
      "1/1 [==============================] - 0s 5ms/step - loss: 8.5665e-06\n",
      "Epoch 142/200\n",
      "1/1 [==============================] - 0s 1ms/step - loss: 3.7430e-06\n",
      "Epoch 143/200\n",
      "1/1 [==============================] - 0s 2ms/step - loss: 9.2230e-06\n",
      "Epoch 144/200\n",
      "1/1 [==============================] - 0s 724us/step - loss: 1.1743e-05\n",
      "Epoch 145/200\n",
      "1/1 [==============================] - 0s 1ms/step - loss: 5.1183e-06\n",
      "Epoch 146/200\n",
      "1/1 [==============================] - 0s 2ms/step - loss: 1.7101e-06\n",
      "Epoch 147/200\n",
      "1/1 [==============================] - 0s 1ms/step - loss: 6.3418e-06\n",
      "Epoch 148/200\n",
      "1/1 [==============================] - 0s 3ms/step - loss: 7.6785e-06\n",
      "Epoch 149/200\n",
      "1/1 [==============================] - 0s 2ms/step - loss: 3.6533e-06\n",
      "Epoch 150/200\n",
      "1/1 [==============================] - 0s 3ms/step - loss: 2.3763e-06\n",
      "Epoch 151/200\n",
      "1/1 [==============================] - 0s 6ms/step - loss: 4.3320e-06\n",
      "Epoch 152/200\n",
      "1/1 [==============================] - 0s 3ms/step - loss: 3.5942e-06\n",
      "Epoch 153/200\n",
      "1/1 [==============================] - 0s 4ms/step - loss: 2.0717e-06\n",
      "Epoch 154/200\n",
      "1/1 [==============================] - 0s 3ms/step - loss: 3.0438e-06\n",
      "Epoch 155/200\n",
      "1/1 [==============================] - 0s 3ms/step - loss: 3.4729e-06\n",
      "Epoch 156/200\n",
      "1/1 [==============================] - 0s 3ms/step - loss: 1.4254e-06\n",
      "Epoch 157/200\n",
      "1/1 [==============================] - 0s 1ms/step - loss: 9.3236e-07\n",
      "Epoch 158/200\n",
      "1/1 [==============================] - 0s 6ms/step - loss: 2.5205e-06\n",
      "Epoch 159/200\n",
      "1/1 [==============================] - 0s 1ms/step - loss: 2.4908e-06\n",
      "Epoch 160/200\n",
      "1/1 [==============================] - 0s 2ms/step - loss: 8.2402e-07\n",
      "Epoch 161/200\n",
      "1/1 [==============================] - 0s 2ms/step - loss: 7.8213e-07\n",
      "Epoch 162/200\n",
      "1/1 [==============================] - 0s 3ms/step - loss: 1.7034e-06\n",
      "Epoch 163/200\n",
      "1/1 [==============================] - 0s 1ms/step - loss: 1.3803e-06\n",
      "Epoch 164/200\n",
      "1/1 [==============================] - 0s 2ms/step - loss: 7.2916e-07\n",
      "Epoch 165/200\n",
      "1/1 [==============================] - 0s 2ms/step - loss: 9.6542e-07\n",
      "Epoch 166/200\n",
      "1/1 [==============================] - 0s 2ms/step - loss: 9.9685e-07\n",
      "Epoch 167/200\n",
      "1/1 [==============================] - 0s 2ms/step - loss: 4.8548e-07\n",
      "Epoch 168/200\n",
      "1/1 [==============================] - 0s 2ms/step - loss: 5.7674e-07\n",
      "Epoch 169/200\n",
      "1/1 [==============================] - 0s 5ms/step - loss: 9.3681e-07\n",
      "Epoch 170/200\n",
      "1/1 [==============================] - 0s 2ms/step - loss: 5.9603e-07\n",
      "Epoch 171/200\n",
      "1/1 [==============================] - 0s 2ms/step - loss: 1.7784e-07\n",
      "Epoch 172/200\n",
      "1/1 [==============================] - 0s 2ms/step - loss: 4.7502e-07\n",
      "Epoch 173/200\n",
      "1/1 [==============================] - 0s 950us/step - loss: 6.5684e-07\n",
      "Epoch 174/200\n",
      "1/1 [==============================] - 0s 1ms/step - loss: 3.3897e-07\n",
      "Epoch 175/200\n",
      "1/1 [==============================] - 0s 4ms/step - loss: 1.8955e-07\n",
      "Epoch 176/200\n",
      "1/1 [==============================] - 0s 2ms/step - loss: 3.6274e-07\n",
      "Epoch 177/200\n",
      "1/1 [==============================] - 0s 3ms/step - loss: 3.2353e-07\n",
      "Epoch 178/200\n",
      "1/1 [==============================] - 0s 4ms/step - loss: 1.8918e-07\n",
      "Epoch 179/200\n",
      "1/1 [==============================] - 0s 3ms/step - loss: 2.5867e-07\n",
      "Epoch 180/200\n",
      "1/1 [==============================] - 0s 2ms/step - loss: 2.6265e-07\n",
      "Epoch 181/200\n",
      "1/1 [==============================] - 0s 3ms/step - loss: 1.1440e-07\n",
      "Epoch 182/200\n",
      "1/1 [==============================] - 0s 4ms/step - loss: 1.1905e-07\n",
      "Epoch 183/200\n",
      "1/1 [==============================] - 0s 2ms/step - loss: 2.3184e-07\n",
      "Epoch 184/200\n",
      "1/1 [==============================] - 0s 1ms/step - loss: 1.5440e-07\n",
      "Epoch 185/200\n",
      "1/1 [==============================] - 0s 1ms/step - loss: 4.9618e-08\n",
      "Epoch 186/200\n",
      "1/1 [==============================] - 0s 1ms/step - loss: 1.0465e-07\n",
      "Epoch 187/200\n",
      "1/1 [==============================] - 0s 1ms/step - loss: 1.4796e-07\n",
      "Epoch 188/200\n",
      "1/1 [==============================] - 0s 1ms/step - loss: 8.4087e-08\n",
      "Epoch 189/200\n",
      "1/1 [==============================] - 0s 2ms/step - loss: 6.4111e-08\n",
      "Epoch 190/200\n",
      "1/1 [==============================] - 0s 1ms/step - loss: 9.1629e-08\n",
      "Epoch 191/200\n",
      "1/1 [==============================] - 0s 2ms/step - loss: 6.3422e-08\n",
      "Epoch 192/200\n",
      "1/1 [==============================] - 0s 2ms/step - loss: 4.2385e-08\n",
      "Epoch 193/200\n",
      "1/1 [==============================] - 0s 1ms/step - loss: 7.3667e-08\n",
      "Epoch 194/200\n",
      "1/1 [==============================] - 0s 1ms/step - loss: 6.3913e-08\n",
      "Epoch 195/200\n",
      "1/1 [==============================] - 0s 4ms/step - loss: 1.9615e-08\n",
      "Epoch 196/200\n",
      "1/1 [==============================] - 0s 977us/step - loss: 3.4759e-08\n",
      "Epoch 197/200\n",
      "1/1 [==============================] - 0s 2ms/step - loss: 5.7470e-08\n",
      "Epoch 198/200\n",
      "1/1 [==============================] - 0s 1ms/step - loss: 3.2051e-08\n",
      "Epoch 199/200\n",
      "1/1 [==============================] - 0s 1ms/step - loss: 1.5109e-08\n",
      "Epoch 200/200\n"
     ]
    },
    {
     "name": "stdout",
     "output_type": "stream",
     "text": [
      "1/1 [==============================] - ETA: 0s - loss: 3.0686e-08\b\b\b\b\b\b\b\b\b\b\b\b\b\b\b\b\b\b\b\b\b\b\b\b\b\b\b\b\b\b\b\b\b\b\b\b\b\b\b\b\b\b\b\b\b\b\b\b\b\b\b\b\b\b\b\b\b\b\b\b\b\b\b\b\b\r",
      "1/1 [==============================] - 0s 2ms/step - loss: 3.0686e-08\n"
     ]
    }
   ],
   "source": [
    "model.compile(optimizer='adam', loss='mse')\n",
    "# fit model\n",
    "history = model.fit(X, y, epochs=200, verbose=1)"
   ]
  },
  {
   "cell_type": "code",
   "execution_count": 90,
   "metadata": {},
   "outputs": [
    {
     "data": {
      "image/png": "[encoded data removed]",
      "text/plain": [
       "<Figure size 432x288 with 1 Axes>"
      ]
     },
     "metadata": {
      "needs_background": "light"
     },
     "output_type": "display_data"
    }
   ],
   "source": [
    "plt.plot(history.history['loss'], label='train')\n",
    "plt.legend()\n",
    "plt.show()"
   ]
  },
  {
   "cell_type": "code",
   "execution_count": 95,
   "metadata": {},
   "outputs": [
    {
     "data": {
      "text/plain": [
       "array([[[70, 70],\n",
       "        [80, 50],\n",
       "        [90, 50]]])"
      ]
     },
     "execution_count": 95,
     "metadata": {},
     "output_type": "execute_result"
    }
   ],
   "source": [
    "# [samples, timesteps, features]\n",
    "x_input = np.array(\n",
    "    [[ 70, 70],\n",
    "     [ 80, 50],\n",
    "     [ 90, 50]]\n",
    ")\n",
    "x_input = x_input.reshape((1, n_steps_in, 2))\n",
    "x_input"
   ]
  },
  {
   "cell_type": "code",
   "execution_count": 96,
   "metadata": {},
   "outputs": [
    {
     "name": "stdout",
     "output_type": "stream",
     "text": [
      "[[[ 93.09968   45.138393]\n",
      "  [107.32533   42.647102]]]\n"
     ]
    }
   ],
   "source": [
    "yhat = model.predict(x_input, verbose=0)\n",
    "print(yhat)"
   ]
  },
  {
   "cell_type": "code",
   "execution_count": null,
   "metadata": {},
   "outputs": [],
   "source": []
  }
 ],
 "metadata": {
  "kernelspec": {
   "display_name": "Python 3",
   "language": "python",
   "name": "python3"
  },
  "language_info": {
   "codemirror_mode": {
    "name": "ipython",
    "version": 3
   },
   "file_extension": ".py",
   "mimetype": "text/x-python",
   "name": "python",
   "nbconvert_exporter": "python",
   "pygments_lexer": "ipython3",
   "version": "3.7.6"
  }
 },
 "nbformat": 4,
 "nbformat_minor": 4
}
